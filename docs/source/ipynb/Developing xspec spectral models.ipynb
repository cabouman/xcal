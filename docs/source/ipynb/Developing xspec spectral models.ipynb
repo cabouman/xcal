{
 "cells": [
  {
   "cell_type": "markdown",
   "metadata": {},
   "source": [
    "# Developing xspec spectral models\n",
    "Whether you are proposing a new spectral model for inclusion in XSPEC, developing a separate package that extends XSPEC's capabilities, or implementing custom models for your own astrophysical research projects, this guide details how to develop components that integrate seamlessly with XSPEC's analysis tools and frameworks.\n",
    "\n",
    "By following these guidelines, you can ensure that your spectral models are compatible with XSPEC's architecture, allowing them to be used effectively within XSPEC's environment for fitting astronomical data, performing statistical analysis, and contributing to the broader astrophysical community's research efforts."
   ]
  },
  {
   "cell_type": "markdown",
   "metadata": {},
   "source": [
    "# Base_Spec_Model Class Overview with Examples\n",
    "\n",
    "The `Base_Spec_Model` class is designed as a foundation for implementing spectral models in astrophysical data analysis, particularly for the XSPEC framework. Below, we provide a brief overview of each method within this class along with example code snippets to illustrate their usage.\n",
    "\n",
    "## Constructor: `__init__(self, params_list)`\n",
    "\n",
    "The constructor initializes a spectral model with a set of parameters. Each parameter in the `params_list` can be either continuous or discrete:\n",
    "\n",
    "- **Continuous Parameters**: Defined as tuples with the format `(initial value, lower bound, upper bound)`.\n",
    "- **Discrete Parameters**: Directly specified without a tuple format.\n",
    "\n",
    "The constructor also uniquely names each instance of a subclass by appending a count to the class name, allowing for multiple distinct instances of the same model within an analysis.\n",
    "\n",
    "### Key Features:\n",
    "\n",
    "- **Parameter Normalization**: Continuous parameters are normalized, ensuring they are within a specified range.\n",
    "- **Unique Parameter Naming**: Each parameter is uniquely named by prefixing it with the instance name, facilitating differentiation between multiple instances of models."
   ]
  },
  {
   "cell_type": "markdown",
   "metadata": {},
   "source": [
    "### Example:\n",
    "\n",
    "This initializes a model instance with two possible parameter sets, each specifying a thickness range and a discrete model type."
   ]
  },
  {
   "cell_type": "code",
   "execution_count": 1,
   "metadata": {},
   "outputs": [],
   "source": [
    "from xspec.models import Base_Spec_Model\n",
    "params_list = [\n",
    "    {'thickness': (5.0, 1.0, 10.0), 'model_type': 'A'},  # Continuous and discrete parameters\n",
    "    {'thickness': (7.0, 1.0, 15.0), 'model_type': 'B'}   # Thickness is continuous and assign a tuple \n",
    "                                                         # in format (init_values, min, max).\n",
    "]\n",
    "model = Base_Spec_Model(params_list)"
   ]
  },
  {
   "cell_type": "markdown",
   "metadata": {},
   "source": [
    "## Method: `forward(self, energies)`\n",
    "\n",
    "A placeholder method meant to be overridden in subclasses, defining how the model computes its output given an input tensor of energies.\n",
    "\n",
    "### Example:\n",
    "\n",
    "This example shows a custom model that squares the input energies, showcasing how one might implement the `forward` method.\n",
    "\n",
    "* Notice that, this should be a function of energies dependent on parameters defined in params_list."
   ]
  },
  {
   "cell_type": "code",
   "execution_count": 2,
   "metadata": {},
   "outputs": [
    {
     "name": "stdout",
     "output_type": "stream",
     "text": [
      "energies: tensor([1., 2., 3.])\n",
      "output: tensor([1., 4., 9.])\n"
     ]
    }
   ],
   "source": [
    "import torch\n",
    "class MySpecModel(Base_Spec_Model):\n",
    "    def __init__(self, model_types, thickness):\n",
    "        \"\"\"A template customer model.\n",
    "\n",
    "        Args:\n",
    "            model_types (list): A list of possible model types.\n",
    "            thickness (tuple): (initial value, lower bound, upper bound) for the thickness.\n",
    "                These three values cannot be all None. It will not be optimized when lower == upper.\n",
    "        \"\"\"\n",
    "        # Specify key word for this specific model. Each element corresponds to one possible parameters combination.\n",
    "        params_list = [{'model_type': mt, 'thickness': thickness} for mt in model_types]\n",
    "        # Base_Spec_Model __init__\n",
    "        super().__init__(params_list)\n",
    "    def forward(self, energies):\n",
    "        # Example computation: simply return the square of the input energies\n",
    "        return energies ** 2\n",
    "\n",
    "# Assuming 'energies' is a tensor of X-ray energies\n",
    "energies = torch.tensor([1.0, 2.0, 3.0])\n",
    "my_model = MySpecModel(model_types=['A', 'B', 'C'], thickness = (2, 1, 5))\n",
    "output = my_model(energies)\n",
    "print('energies:', energies)\n",
    "print('output:', output)"
   ]
  },
  {
   "cell_type": "markdown",
   "metadata": {},
   "source": [
    "## Method: `get_params(self)`\n",
    "\n",
    "Retrieves the current parameter estimates, useful for inspection or analysis.\n",
    "\n",
    "### Example:\n",
    "This would print the current parameter estimates, including the denormalized and clamped values for continuous parameters."
   ]
  },
  {
   "cell_type": "code",
   "execution_count": 3,
   "metadata": {},
   "outputs": [
    {
     "name": "stdout",
     "output_type": "stream",
     "text": [
      "{'MySpecModel_1_model_type': 'A', 'MySpecModel_1_thickness': tensor(2., grad_fn=<ClampFunctionBackward>)}\n"
     ]
    }
   ],
   "source": [
    "current_params = my_model.get_params()\n",
    "print(current_params)"
   ]
  },
  {
   "cell_type": "markdown",
   "metadata": {},
   "source": [
    "## Method: `set_params(self, params)`\n",
    "\n",
    "Updates the model's parameters based on a provided dictionary, allowing for dynamic adjustment during analysis."
   ]
  },
  {
   "cell_type": "markdown",
   "metadata": {},
   "source": [
    "### Example:\n",
    "\n",
    "This example demonstrates updating the model's temperature range and model type parameters."
   ]
  },
  {
   "cell_type": "code",
   "execution_count": 4,
   "metadata": {},
   "outputs": [
    {
     "name": "stdout",
     "output_type": "stream",
     "text": [
      "{'MySpecModel_1_model_type': 'A', 'MySpecModel_1_thickness': tensor(2., grad_fn=<ClampFunctionBackward>)}\n"
     ]
    }
   ],
   "source": [
    "new_params = {'MySpecModel_2_thickness': (6.0, 1.0, 12.0), 'MySpecModel_2_model_type': 'C'}\n",
    "my_model.set_params(new_params)\n",
    "current_params = my_model.get_params()\n",
    "print(current_params)"
   ]
  },
  {
   "cell_type": "code",
   "execution_count": null,
   "metadata": {},
   "outputs": [],
   "source": []
  },
  {
   "cell_type": "markdown",
   "metadata": {},
   "source": [
    "# Case Study: Creating a Filter Model with `Base_Spec_Model`\n",
    "\n",
    "In this case study, we explore the implementation of a filter model using the `Base_Spec_Model` class as a foundation. This model simulates the behavior of X-ray filters using Beer's Law, leveraging the mass attenuation coefficients from NIST to predict how different materials and thicknesses attenuate X-ray energies.\n",
    "\n",
    "## Beer's Law\n",
    "\n",
    "Beer's Law, also known as Beer-Lambert Law, is a key principle in spectroscopy and radiography, describing the attenuation of light (or X-ray) through a medium. The law is mathematically represented as:\n",
    "\n",
    "$I = I_0 e^{-\\mu x}$\n",
    "\n",
    "where:\n",
    "- $I$ is the intensity of the X-ray after passing through the material,\n",
    "- $I_0$ is the initial intensity of the X-ray before it enters the material,\n",
    "- $\\mu$ is the linear attenuation coefficient of the material, which depends on the energy of the X-ray and the material's properties,\n",
    "- $x$ is the thickness of the material.\n",
    "\n",
    "\n",
    "## The `Filter` Model\n",
    "\n",
    "The `Filter` class follows `Base_Spec_Model`, incorporating materials and their thickness to calculate the filter response based on Beer's Law. It is designed to accept a list of materials and a tuple specifying the thickness range for the filter.\n",
    "\n",
    "### Implementation Details\n",
    "\n",
    "- **Materials**: The model accepts a list of possilbe `Material` instances, each defined by a chemical formula and density. These materials represent the possible choices for the filter's composition.\n",
    "- **Thickness**: The filter's thickness is specified as a tuple `(initial value, lower bound, upper bound)`, guiding the optimization process and ensuring the physical plausibility of the model.\n",
    "\n",
    "#### Fit custer input argument to `Base_Spec_Model`\n",
    "```python\n",
    "params_list = [{'material': mat, 'thickness': thickness} for mat in materials]\n",
    "```"
   ]
  },
  {
   "cell_type": "markdown",
   "metadata": {},
   "source": [
    "### Forward Method\n",
    "\n",
    "The `forward` method calculates the filter response for a given range of X-ray energies, utilizing the `gen_fltr_res` function. This function applies Beer's Law to determine how the selected material and its thickness attenuate the X-ray energies.\n",
    "\n",
    "#### 1. Read parameters.\n",
    "\n",
    "```python\n",
    "mat = self.get_params()[f\"{self.prefix}_material\"]\n",
    "th = self.get_params()[f\"{self.prefix}_thickness\"]\n",
    "```\n",
    "#### 2. Call filter response function\n",
    "```python\n",
    "gen_fltr_res(energies, mat, th)\n",
    "```"
   ]
  },
  {
   "cell_type": "code",
   "execution_count": 6,
   "metadata": {},
   "outputs": [],
   "source": [
    "import numpy as np\n",
    "import torch\n",
    "from xspec import Material\n",
    "from xspec.chem_consts import get_lin_att_c_vs_E\n",
    "from xspec.models import Base_Spec_Model\n",
    "\n",
    "def gen_fltr_res(energies, fltr_mat: Material, fltr_th: float):\n",
    "    # thickness is in mm\n",
    "    mu = get_lin_att_c_vs_E(fltr_mat.density, fltr_mat.formula, energies)\n",
    "    mu = torch.tensor(mu, dtype=torch.float)\n",
    "    att = torch.exp(-mu * fltr_th)\n",
    "\n",
    "    return att\n",
    "\n",
    "\n",
    "class Filter(Base_Spec_Model):\n",
    "    def __init__(self, materials, thickness):\n",
    "        \"\"\"\n",
    "        A template filter model based on Beer's Law and NIST mass attenuation coefficients, including all necessary methods.\n",
    "\n",
    "        Args:\n",
    "            materials (list): A list of possible materials for the filter,\n",
    "                where each material should be an instance containing formula and density.\n",
    "            thickness (tuple): (initial value, lower bound, upper bound) for the filter thickness (mm).\n",
    "                These three values cannot be all None. It will not be optimized when lower == upper.\n",
    "        \"\"\"\n",
    "        params_list = [{'material': mat, 'thickness': thickness} for mat in materials]\n",
    "        super().__init__(params_list)\n",
    "\n",
    "    def forward(self, energies):\n",
    "        \"\"\"\n",
    "        Takes X-ray energies and returns the filter response.\n",
    "\n",
    "        Args:\n",
    "            energies (torch.Tensor): A tensor containing the X-ray energies of a poly-energetic source in units of keV.\n",
    "\n",
    "        Returns:\n",
    "            torch.Tensor: The filter response as a function of input energies, selected material, and its thickness.\n",
    "        \"\"\"\n",
    "        mat = self.get_params()[f\"{self.prefix}_material\"]\n",
    "        th = self.get_params()[f\"{self.prefix}_thickness\"]\n",
    "        # print('ID filter th:', id(th))\n",
    "        return gen_fltr_res(energies, mat, th)"
   ]
  },
  {
   "cell_type": "code",
   "execution_count": 7,
   "metadata": {},
   "outputs": [
    {
     "name": "stdout",
     "output_type": "stream",
     "text": [
      "{'Filter_1_material': Material(formula='Al', density=2.702),\n",
      " 'Filter_1_thickness': tensor(5., grad_fn=<ClampFunctionBackward>)}\n"
     ]
    },
    {
     "data": {
      "image/png": "[encoded data removed]",
      "text/plain": [
       "<Figure size 640x480 with 1 Axes>"
      ]
     },
     "metadata": {},
     "output_type": "display_data"
    }
   ],
   "source": [
    "import matplotlib.pyplot as plt\n",
    "import numpy as np\n",
    "import torch\n",
    "import pprint\n",
    "\n",
    "\n",
    "psb_fltr_mat = [Material(formula='Al', density=2.702), Material(formula='Cu', density=8.92)]\n",
    "filter_1 = Filter(materials = psb_fltr_mat, thickness=(5, 0, 10))\n",
    "params = filter_1.get_params()\n",
    "pprint.pprint(params)\n",
    "with torch.no_grad():\n",
    "    energies = np.linspace(1, 200, 200)  # X-ray energies from 1 to 200 keV\n",
    "    plt.plot(energies, filter_1(energies))  # Plotting the filter response\n",
    "    plt.xlabel('Energy (keV)')\n",
    "    plt.ylabel('Filter Response')\n",
    "    plt.title(f'X-ray Filter Response {params[f\"{filter_1.prefix}_thickness\"].numpy()} mm {params[f\"{filter_1.prefix}_material\"].formula}')\n",
    "    plt.show()\n",
    "    "
   ]
  },
  {
   "cell_type": "code",
   "execution_count": null,
   "metadata": {},
   "outputs": [],
   "source": []
  }
 ],
 "metadata": {
  "kernelspec": {
   "display_name": "xspec",
   "language": "python",
   "name": "xspec"
  },
  "language_info": {
   "codemirror_mode": {
    "name": "ipython",
    "version": 3
   },
   "file_extension": ".py",
   "mimetype": "text/x-python",
   "name": "python",
   "nbconvert_exporter": "python",
   "pygments_lexer": "ipython3",
   "version": "3.9.18"
  }
 },
 "nbformat": 4,
 "nbformat_minor": 4
}
