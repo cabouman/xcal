{
 "cells": [
  {
   "cell_type": "markdown",
   "source": [
    "# Tutorial 01: Model-Based Spectral Calibration using LEAP\n",
    "This tutorial introduces a **model-based spectral calibration** approach using the [LEAP](https://github.com/LLNL/LEAP)\n",
    " projector. \n",
    "\n",
    "In this tutorial, we will \n",
    "- simulate multi-energy dataset using LEAP projector\n",
    "  - simulate CT scans with specific source, filter, and detector configurations. \n",
    "  - scan multiple materials at different source voltages to generate multi-energy dataset. \n",
    "- model-based spectral calibration\n",
    "  - Step 1: Configure Source Model\n",
    "  - Step 2: Configure Filter Model\n",
    "  - Step 3: Configure Detector Model\n",
    "  - Step 4: Obtain sample masks and calculate forward matrix.\n",
    "\n",
    "\n",
    "\n",
    "## X-ray System Setup\n",
    "\n",
    "### Source\n",
    "- **Type**: Reflection\n",
    "- **Voltages Used for Scanning**:\n",
    "  - 50 kV\n",
    "  - 100 kV\n",
    "  - 150 kV\n",
    "\n",
    "### Filter\n",
    "- **Material**: Aluminum (Al)\n",
    "- **Thickness**: 3 mm\n",
    "\n",
    "### Detector\n",
    "- **Material**: Cesium Iodide (CsI)\n",
    "- **Thickness**: 0.33 mm\n",
    "\n",
    "### Samples\n",
    "- **Shapes**: Rods with 0.5 mm diameter\n",
    "- **Materials**: \n",
    "  - Vanadium (V)\n",
    "  - Aluminum (Al)\n",
    "  - Titanium (Ti)\n",
    "  - Magnesium (Mg)\n",
    "- **Length**: 0.2 mm\n",
    "\n",
    "### CT Geometry\n",
    "- **Beam Type**: Cone Beam\n",
    "- **Source-to-Object Distance (SOD)**: 8 mm\n",
    "- **Source-to-Detector Distance (SDD)**: 15 mm\n",
    "- **Detector Specifications**:\n",
    "  - **Pixel Size**: 0.01 mm × 0.01 mm\n",
    "  - **Resolution**: 50 × 512 pixels\n",
    "- **Number of Views**: 64\n"
   ],
   "metadata": {
    "collapsed": false
   },
   "id": "2e3f8bd2497841a6"
  },
  {
   "cell_type": "code",
   "execution_count": null,
   "outputs": [],
   "source": [],
   "metadata": {
    "collapsed": false
   },
   "id": "94df2b9bd567e043"
  }
 ],
 "metadata": {
  "kernelspec": {
   "display_name": "Python 3",
   "language": "python",
   "name": "python3"
  },
  "language_info": {
   "codemirror_mode": {
    "name": "ipython",
    "version": 2
   },
   "file_extension": ".py",
   "mimetype": "text/x-python",
   "name": "python",
   "nbconvert_exporter": "python",
   "pygments_lexer": "ipython2",
   "version": "2.7.6"
  }
 },
 "nbformat": 4,
 "nbformat_minor": 5
}
