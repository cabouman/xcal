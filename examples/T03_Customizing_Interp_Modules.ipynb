{
 "cells": [
  {
   "cell_type": "markdown",
   "id": "4a965641979b8803",
   "metadata": {},
   "source": [
    "# Tutorial 03: Implementing an interpolation module for an X-ray component to allow gradient descent"
   ]
  },
  {
   "cell_type": "markdown",
   "id": "4514e5d829a612b7",
   "metadata": {},
   "source": [
    "## Introduction\n",
    "\n",
    "This tutorial covers how to implement an interpolation module for an X-ray component to enable **gradient-based optimization**. Analytical models are often **not reliable** for accurately modeling X-ray sources due to complex interactions in the system. Instead, we can use an **interpolation model** with some lookup tables to achieve a more accurate and flexible representation.\n",
    "\n",
    "Many physics-based models, such as X-ray source modeling, rely on **lookup tables** generated using particle simulation tool like **Geant4**. \n",
    "\n",
    "We use **linear interpolation** to create a continuous function based on the lookup table values. This approach ensures that the function is **numerically differentiable**, allowing for **gradient descent optimization**."
   ]
  },
  {
   "cell_type": "markdown",
   "id": "3b337bfeeb29e251",
   "metadata": {},
   "source": [
    "### **What You Will Need**\n",
    "- **User adjustable Parameters**: $v$ is known, like source voltage.\n",
    "- **Estimated Parameters**: $a, b, c, \\dots$ to be estimated or optimized.  \n",
    "- **An interpolation model**: $S(E, v; a, b, c, \\dots)$ that defines the spectrum or energy response.  \n",
    "- **Lookup table**: Precomputed values stored as  \n",
    "\n",
    "  $$\n",
    "  \\mathcal{S}[E, v; i_a, i_b, i_c, \\dots]\n",
    "  $$\n",
    "\n",
    "  where:\n",
    "  - $E$ represents photon energy.\n",
    "  - $v$ represents source voltage.\n",
    "  - $i_a, i_b, i_c, \\dots$ are discrete indices for model parameters $a, b, c, \\dots$.  \n",
    "\n",
    "- **Interpolation**: Used to approximate intermediate values between the discrete lookup table entries, ensuring smooth optimization.  \n",
    "\n",
    "### **What You Will Expect**\n",
    "- How to build an **interpolation-based model**?\n",
    "- Implementing the model using **PyTorch** for differentiability.\n",
    "- A step-by-step guide to setting up and testing the interpolation module."
   ]
  },
  {
   "cell_type": "markdown",
   "id": "66fa9b3711c90081",
   "metadata": {},
   "source": [
    "## A. Interpolation Model of Transmission Source\n",
    "### A1. Background\n",
    "\n",
    "For a transmission X-ray source, target thickness $\\theta^s$ is essential for the X-ray source spectrum. We want to estimate this parameter.\n",
    "For a given parameter $\\theta^s$ between two discrete points $\\theta_q^s$ and $\\theta_{q+1}^s$, we approximate the function as:\n",
    "\n",
    "$$\n",
    "S (E, v; \\theta^s) = (1 - \\gamma) \\mathcal{S}(E, v; \\theta_q^s) + \\gamma \\mathcal{S}(E,\\theta_{q+1}^s)\n",
    "$$\n",
    "\n",
    "where the interpolation weight $\\gamma$ is given by:\n",
    "\n",
    "$$\n",
    "\\gamma = \\frac{\\theta^s - \\theta_q^s}{\\theta_{q+1}^s - \\theta_q^s}, \\quad \\text{for } \\theta_q^s \\leq \\theta^s < \\theta_{q+1}^s.\n",
    "$$\n",
    "\n",
    "This interpolation provides a **smooth approximation** of the function and is **numerically differentiable**, except at the discrete lookup points. \n"
   ]
  },
  {
   "cell_type": "markdown",
   "id": "846a3dfae8fe0f42",
   "metadata": {},
   "source": [
    "### A2. Step-by Step Implementation\n",
    "\n",
    "To build an interpolation model that supports **gradient descent**, we need three key functions:\n",
    "\n",
    "1. **`__init__` (Initialize the Model)**  \n",
    "   - Defines **voltage** as adjustable parameter and **target thickness** as optimizable parameters.  \n",
    "   - Supports **single target thickness** for the CT system. If set to true, all instances of this class will use the same target thickness.   \n",
    "\n",
    "2. **`set_src_spec_list` (Setup Lookup Table & Interpolation)**  \n",
    "   - Loads **lookup table data**: discrete energies, spectra, voltages, and thicknesses.  \n",
    "   - Interpolation spectrum over source voltage. \n",
    "   - Uses **bilinear interpolation (`Interp2D`)** to smoothly estimate spectra between discrete points.  \n",
    "\n",
    "3. **`forward` (Compute Interpolated Spectrum)**  \n",
    "   - Retrieves **current model parameters**.  \n",
    "   - Applies **2D interpolation** on voltage and target thickness. \n",
    "   - Applies **1D interpolation (`Interp1D`)** for input energy.  \n",
    "   - Ensures a **continuous, differentiable function** for **gradient-based optimization**.  \n",
    "\n",
    "This setup enables **efficient spectral modeling and optimization** using PyTorch.  \n"
   ]
  },
  {
   "cell_type": "markdown",
   "id": "fafb14f302aa36ed",
   "metadata": {},
   "source": [
    "#### **Note 1: Handling Continuous Parameters in Optimization**\n",
    "In the `Transmission_Source` class, we define **voltage** and **target thickness** as optimizable parameters. These parameters are provided as tuples:  \n",
    "\n",
    "- **`voltage`**: `(initial value, lower bound, upper bound)`  \n",
    "- **`target_thickness`**: `(initial value, lower bound, upper bound)`  \n",
    "\n",
    "##### **Key Constraints:**\n",
    "- **All three values cannot be `None`**, ensuring the parameter is properly defined.\n",
    "- If **lower bound == upper bound**, the parameter is **fixed** and will **not be optimized**.\n",
    "\n",
    "To handle these parameters, we store them in a dictionary and pass them to the base class:\n",
    "\n",
    "```python\n",
    "# Build dictionary for continuous parameters\n",
    "params_list = [{'voltage': voltage, 'target_thickness': target_thickness}]\n",
    "super().__init__(params_list)\n"
   ]
  },
  {
   "cell_type": "markdown",
   "id": "11316a50af3e565d",
   "metadata": {},
   "source": [
    "#### **Note 2: Handling Data Conversion in `set_src_spec_list`**  \n",
    "\n",
    "In `set_src_spec_list`, we carefully transition data from **lists → NumPy arrays → Torch tensors** to ensure compatibility with **PyTorch's function**. \n"
   ]
  },
  {
   "cell_type": "code",
   "execution_count": 1,
   "id": "ff6f0e8c5caab117",
   "metadata": {
    "ExecuteTime": {
     "end_time": "2025-03-19T09:10:30.143317Z",
     "start_time": "2025-03-19T09:10:28.519083Z"
    }
   },
   "outputs": [],
   "source": [
    "import numpy as np\n",
    "import torch\n",
    "from xcal.models import Base_Spec_Model, prepare_for_interpolation, Interp1D, Interp2D\n",
    "\n",
    "class Transmission_Source(Base_Spec_Model):\n",
    "    def __init__(self, voltage, target_thickness, single_target_thickness):\n",
    "        \"\"\"\n",
    "        A template source model designed specifically for reflection sources, including all necessary methods.\n",
    "\n",
    "        Args:\n",
    "            voltage (tuple): (initial value, lower bound, upper bound) for the source voltage.\n",
    "                These three values cannot be all None. It will not be optimized when lower == upper.\n",
    "            target_thickness (tuple): (initial value, lower bound, upper bound) for the target thickness.\n",
    "                These three values cannot be all None. It will not be optimized when lower == upper.\n",
    "            single_target_thickness (bool): If ture, all instances of class transmission source will be the same.\n",
    "            \n",
    "        \"\"\"\n",
    "        # Build dictionary for continous parameter.\n",
    "        params_list = [{'voltage': voltage, 'target_thickness': target_thickness}]\n",
    "        super().__init__(params_list)\n",
    "        \n",
    "        self.single_target_thickness = single_target_thickness\n",
    "        if self.single_target_thickness:\n",
    "            for params in self._params_list:\n",
    "                params[f\"{self.__class__.__name__}_target_thickness\"] = params.pop(f\"{self.prefix}_target_thickness\")\n",
    "            self._init_estimates()\n",
    "\n",
    "    def set_src_spec_list(self, energies, src_spec_list, voltages, target_thicknesses):\n",
    "        \"\"\"Set source spectra for interpolation, which will be used only by forward function.\n",
    "\n",
    "        Args:\n",
    "            src_spec_list (numpy.ndarray): This array contains the reference X-ray source spectra. Each spectrum in this array corresponds to a specific combination of the target_thicknesses and one of the source voltages from src_voltage_list.\n",
    "            src_voltage_list (numpy.ndarray): This is a sorted array containing the source voltages, each corresponding to a specific reference X-ray source spectrum.\n",
    "            target_thicknesses (float): This value represents the target_thicknesses, expressed in um, which is used in generating the reference X-ray spectra.\n",
    "        \"\"\"\n",
    "        # Load data\n",
    "        self.energies = torch.tensor(energies, dtype=torch.float32)\n",
    "        self.src_spec_list = np.array(src_spec_list)\n",
    "        self.voltages = np.array(voltages)\n",
    "        self.target_thicknesses = np.array(target_thicknesses)\n",
    "        modified_src_spec_list = src_spec_list.copy()\n",
    "        \n",
    "        # Interpolation spectrum over source voltage. \n",
    "        for tti, tt in enumerate(target_thicknesses):\n",
    "            modified_src_spec_list[:, tti] = prepare_for_interpolation(modified_src_spec_list[:, tti])\n",
    "\n",
    "        # Bilinear interpolation\n",
    "        V, T = torch.meshgrid(torch.tensor(self.voltages, dtype=torch.float32), torch.tensor(self.target_thicknesses, dtype=torch.float32), indexing='ij')\n",
    "        self.src_spec_interp_func = Interp2D(V, T, torch.tensor(modified_src_spec_list, dtype=torch.float32))\n",
    "\n",
    "    def forward(self, energies):\n",
    "        \"\"\"\n",
    "        Takes X-ray energies and returns the source spectrum.\n",
    "\n",
    "        Args:\n",
    "            energies (torch.Tensor): A tensor containing the X-ray energies of a poly-energetic source in units of keV.\n",
    "\n",
    "        Returns:\n",
    "            torch.Tensor: The source response.\n",
    "        \"\"\"\n",
    "        #  Retrieves voltage and target thickness\n",
    "        voltage = self.get_params()[f\"{self.prefix}_voltage\"]\n",
    "        if self.single_target_thickness:\n",
    "            target_thickness = self.get_params()[f\"{self.__class__.__name__}_target_thickness\"]\n",
    "        else:\n",
    "            target_thickness = self.get_params()[f\"{self.prefix}_target_thickness\"]\n",
    "        \n",
    "        # Applies 2D interpolation on voltage and target thickness. \n",
    "        src_spec = self.src_spec_interp_func(voltage, target_thickness)\n",
    "        \n",
    "        # Build 1D interpolation function with src_spec. \n",
    "        src_interp_E_func = Interp1D(self.energies, src_spec)\n",
    "        \n",
    "        # Applies 1D interpolation function for input energy. \n",
    "        energies = torch.tensor(energies, dtype=torch.float32) if not isinstance(energies, torch.Tensor) else energies\n",
    "        return src_interp_E_func(energies)"
   ]
  },
  {
   "cell_type": "markdown",
   "id": "58b5d7666c3174fc",
   "metadata": {},
   "source": [
    "## A3. Usage of Transmission Source"
   ]
  },
  {
   "cell_type": "code",
   "execution_count": 2,
   "id": "5ee671f808cf5742",
   "metadata": {
    "ExecuteTime": {
     "end_time": "2025-03-19T09:10:30.399927Z",
     "start_time": "2025-03-19T09:10:30.146124Z"
    }
   },
   "outputs": [
    {
     "name": "stdout",
     "output_type": "stream",
     "text": [
      "Lookup Table has dimension: (3, 4, 150)\n",
      "3  source voltages\n",
      "4  target thicknesses\n",
      "150  energy bins\n"
     ]
    }
   ],
   "source": [
    "import pandas as pd\n",
    "\n",
    "def integrate_by_step(data, step_size, offset=0):\n",
    "    num_elements = len(data)\n",
    "\n",
    "    # Calculate the number of chunks\n",
    "    num_chunks = (num_elements // step_size) + (1 if num_elements % step_size else 0)\n",
    "\n",
    "    # Generate the chunks and sum their elements\n",
    "    integrated_data = [sum(data[i*step_size-offset : (i)*step_size+step_size-offset]) for i in range(num_chunks)]\n",
    "    \n",
    "    return np.array(integrated_data)    \n",
    "\n",
    "\n",
    "max_simkV=150\n",
    "energies = np.linspace(1, max_simkV, max_simkV) \n",
    "\n",
    "# Define the kVp and Wth values for the lookup table\n",
    "kvp_values = [40, 80, 150]\n",
    "wth_values = [1, 3, 5, 7]\n",
    "\n",
    "# Read data from lookup table.\n",
    "data = []\n",
    "df = pd.read_csv('./data/lookup_tables/Geant4_Transmission_Source_Spectra.csv', header=[0,1,2,3,4,5])\n",
    "df.columns.set_names(['W_Thickness', 'Diamond_Thickness', 'Angle', 'PhysicsModel', 'Voltage', 'Energy (keV)'], inplace=True)\n",
    "\n",
    "# Prepare lookup table data for set_src_spec_list.\n",
    "for kvp in kvp_values:\n",
    "    wth_data = []\n",
    "    for wth in wth_values:\n",
    "        # Load the data, skipping the first row\n",
    "        # Specify which spectrum is read from the large csv file based on Target thickness, Apex Angle, Physics Model in Geant4, and Source Voltage.\n",
    "        csv_data = df.xs(('%dum'%wth,\n",
    "                          '10deg',\n",
    "                          'G4EmLivermorePhysics', \n",
    "                          '%dkVp'%kvp), \n",
    "                         level=['W_Thickness', 'Angle','PhysicsModel','Voltage'], axis=1)\n",
    "        # Convert bin size from 0.1 keV to 1 keV.\n",
    "        sp_integral = integrate_by_step(csv_data.values[9:,0],step_size=10,offset=5)\n",
    "        # Append only the y-axis data (second column)\n",
    "        wth_data.append(sp_integral)\n",
    "\n",
    "\n",
    "    # Stack the Wth data for this particular kVp\n",
    "    data.append(np.array(wth_data))\n",
    "\n",
    "# Convert the list to a 3D numpy array\n",
    "padded_spec_table = np.array(data)\n",
    "print('Lookup Table has dimension:', padded_spec_table.shape)\n",
    "print(f'{len(kvp_values)}  source voltages')\n",
    "print(f'{len(wth_values)}  target thicknesses')\n",
    "print(f'{len(energies)}  energy bins')\n",
    "padded_spec_table = np.pad(padded_spec_table, ((0, 0), (0, 0), (0, 10)), mode='constant', constant_values=0)"
   ]
  },
  {
   "cell_type": "code",
   "execution_count": 3,
   "id": "3afcdb7e283383dc",
   "metadata": {
    "ExecuteTime": {
     "end_time": "2025-03-19T09:10:30.541304Z",
     "start_time": "2025-03-19T09:10:30.397645Z"
    }
   },
   "outputs": [
    {
     "data": {
      "text/plain": [
       "[<matplotlib.lines.Line2D at 0x152911d57a60>]"
      ]
     },
     "execution_count": 3,
     "metadata": {},
     "output_type": "execute_result"
    },
    {
     "data": {
      "image/png": "[encoded data removed]",
      "text/plain": [
       "<Figure size 640x480 with 1 Axes>"
      ]
     },
     "metadata": {},
     "output_type": "display_data"
    }
   ],
   "source": [
    "import matplotlib.pyplot as plt\n",
    "\n",
    "v = 140 # source voltage in keV\n",
    "theta_s = 2.5 # target thickness in um\n",
    "\n",
    "source = Transmission_Source(voltage=(v, None, None), \n",
    "                             target_thickness=(theta_s,1,7), \n",
    "                             single_target_thickness = True)\n",
    "source.set_src_spec_list(energies, padded_spec_table,kvp_values, wth_values)\n",
    "ee = np.linspace(1,150,150)\n",
    "ss = source(ee)\n",
    "\n",
    "plt.plot(ee, ss.data)"
   ]
  },
  {
   "cell_type": "code",
   "execution_count": null,
   "id": "70f118ac8f682806",
   "metadata": {
    "ExecuteTime": {
     "end_time": "2025-03-19T09:10:30.541578Z",
     "start_time": "2025-03-19T09:10:30.480429Z"
    }
   },
   "outputs": [],
   "source": []
  }
 ],
 "metadata": {
  "kernelspec": {
   "display_name": "xcal",
   "language": "python",
   "name": "xcal"
  },
  "language_info": {
   "codemirror_mode": {
    "name": "ipython",
    "version": 3
   },
   "file_extension": ".py",
   "mimetype": "text/x-python",
   "name": "python",
   "nbconvert_exporter": "python",
   "pygments_lexer": "ipython3",
   "version": "3.10.17"
  }
 },
 "nbformat": 4,
 "nbformat_minor": 5
}
