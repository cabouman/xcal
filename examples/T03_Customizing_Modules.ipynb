{
 "cells": [
  {
   "cell_type": "markdown",
   "source": [
    "# Tutorial 03: Implementing a Gradient Descent-Based Module for an X-ray Component\n",
    "\n",
    "This tutorial demonstrates how to implement a Gradient Descent-Based Module for any X-ray component in spectral calibration. It is designed for users who need to incorporate a different model or estimate alternative system parameters, such as a different X-ray source model that better represents their setup."
   ],
   "metadata": {
    "collapsed": false
   },
   "id": "4a965641979b8803"
  },
  {
   "cell_type": "code",
   "execution_count": null,
   "outputs": [],
   "source": [],
   "metadata": {
    "collapsed": false
   },
   "id": "d0a7c5f2db0086e0"
  }
 ],
 "metadata": {
  "kernelspec": {
   "display_name": "Python 3",
   "language": "python",
   "name": "python3"
  },
  "language_info": {
   "codemirror_mode": {
    "name": "ipython",
    "version": 2
   },
   "file_extension": ".py",
   "mimetype": "text/x-python",
   "name": "python",
   "nbconvert_exporter": "python",
   "pygments_lexer": "ipython2",
   "version": "2.7.6"
  }
 },
 "nbformat": 4,
 "nbformat_minor": 5
}
