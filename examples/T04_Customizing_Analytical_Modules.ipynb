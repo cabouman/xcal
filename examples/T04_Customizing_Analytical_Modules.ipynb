{
 "cells": [
  {
   "cell_type": "markdown",
   "source": [
    "# Tutorial 04: Implementing an analytical module for an X-ray component to allow gradient descent"
   ],
   "metadata": {
    "collapsed": false
   },
   "id": "4a965641979b8803"
  },
  {
   "cell_type": "markdown",
   "source": [
    "### **What You Will Need**\n",
    "- **Parameters**: $a, b, c, \\dots$ to be estimated or optimized. \n",
    "- **An analtyical model**: $S(E; a, b, c, \\dots)$ that defines the spectrum or energy response.  \n",
    "\n",
    "### **What You Will Expect**\n",
    "- How to build an **analtyical model**?\n",
    "- Implementing the model using **PyTorch** for differentiability.\n",
    "- A step-by-step guide to setting up and testing the interpolation module."
   ],
   "metadata": {
    "collapsed": false
   },
   "id": "64e50431c607f433"
  },
  {
   "cell_type": "markdown",
   "source": [
    "## A. Analytical Model of Filter\n",
    "### A1. Background\n",
    "\n",
    "In X-ray systems, filters are always used to protect the detector and enhance image quality by selectively absorbing low-energy X-rays that contribute to image noise without improving image contrast. According to Beer's law, the response of a single filter is\n",
    "\n",
    "$$\n",
    "f\\left(E; m, \\theta\\right) = \\mathrm{e}^{-\\mu(E, m) \\theta}\n",
    "$$\n",
    "\n",
    "where:\n",
    "\n",
    "- $m$ denotes the filter material, which is a discrete parameter with only a limited set of choices. \n",
    "- $\\mu(E, m)$ is the Linear Attenuation Coefficient (LAC) of material $m$ at energy $E$.\n",
    "- $\\theta$ denotes filter thickness, which is a continuous parameter within a continuous range."
   ],
   "metadata": {
    "collapsed": false
   },
   "id": "240c91980e878e60"
  },
  {
   "cell_type": "markdown",
   "source": [
    "### **A2. Step-by-Step Implementation**\n",
    "\n",
    "To build an analytical model that supports **gradient descent**, we need two key functions:\n",
    "\n",
    "1. **`__init__` (Initialize the Model)**  \n",
    "   - Defines **materials** and **thickness** as model parameters.  \n",
    "   - Assigns **separate memory for continuous parameters** corresponding to each discrete material selection.  \n",
    "   - Enables **search over all material combinations**, allowing the model to explore different discrete parameter configurations.\n",
    "\n",
    "2. **`forward` (Compute Filter Response)**  \n",
    "   - Retrieves the current **material** and **thickness** for the filter. \n",
    "   - Calls `gen_fltr_res()` to compute the **X-ray attenuation response** using Beer's Law.  \n",
    "   - Ensures the response is computed for a given set of **X-ray energies**.  \n",
    "\n",
    "This setup enables **efficient spectral modeling and optimization** using PyTorch.\n"
   ],
   "metadata": {
    "collapsed": false
   },
   "id": "37302efc2b5027b9"
  },
  {
   "cell_type": "markdown",
   "source": [
    "#### **Note 1: Material Class Overview**  \n",
    "\n",
    "The `Material` class stores the **chemical formula** and **density** of a material, ensuring valid input types and allowing it to be used in X-ray modeling and optimization."
   ],
   "metadata": {
    "collapsed": false
   },
   "id": "32d067f8c9a46284"
  },
  {
   "cell_type": "markdown",
   "source": [
    "#### **Note 2: Get LAC value**\n",
    "The `get_lin_att_c_vs_E` function calculates the linear attenuation coefficient (LAC) value with density, thickness, and energy vector."
   ],
   "metadata": {
    "collapsed": false
   },
   "id": "a0a6d82c120c16d8"
  },
  {
   "cell_type": "markdown",
   "source": [
    "#### **Note 3: `get_params()` Function Overview**  \n",
    "\n",
    "The `get_params()` function, defined in `Base_Spec_Model`, retrieves the **estimated parameters** as a dictionary, applying **denormalization and clamping** to ensure they remain within valid bounds while maintaining gradient flow for optimization."
   ],
   "metadata": {
    "collapsed": false
   },
   "id": "885e8ae28cd90fd"
  },
  {
   "cell_type": "code",
   "execution_count": 1,
   "outputs": [],
   "source": [
    "import numpy as np\n",
    "import torch\n",
    "from xspec.models import Base_Spec_Model\n",
    "from xspec.defs import Material\n",
    "from xspec.chem_consts._consts_from_table import get_lin_att_c_vs_E\n",
    "\n",
    "# Implement the analytical model for filter.\n",
    "def _obtain_attenuation(energies, formula, density, thickness, torch_mode=False):\n",
    "    # thickness is mm\n",
    "\tmu = get_lin_att_c_vs_E(density, formula, energies)\n",
    "\tif torch_mode:\n",
    "\t\tmu = torch.tensor(mu)\n",
    "\t\tatt = torch.exp(-mu * thickness)\n",
    "\telse:\n",
    "\t\tatt = np.exp(-mu * thickness)\n",
    "\treturn att\n",
    "\n",
    "def gen_fltr_res(energies, fltr_mat:Material, fltr_th:float, torch_mode=True):\n",
    "\n",
    "    return _obtain_attenuation(energies, fltr_mat.formula, fltr_mat.density, fltr_th, torch_mode)\n",
    "\n",
    "# Gradient descent module.\n",
    "class Filter(Base_Spec_Model):\n",
    "    def __init__(self, materials, thickness):\n",
    "        \"\"\"\n",
    "        A template filter model based on Beer's Law and NIST mass attenuation coefficients, including all necessary methods.\n",
    "\n",
    "        Args:\n",
    "            materials (list): A list of possible materials for the filter,\n",
    "                where each material should be an instance containing formula and density.\n",
    "            thickness (tuple or list): If a tuple, it should be (initial value, lower bound, upper bound) for the filter thickness.\n",
    "                If a list, it should have the same length as the materials list, specifying thickness for each material.\n",
    "                These values cannot be all None. It will not be optimized when lower == upper.\n",
    "        \"\"\"\n",
    "        if isinstance(thickness, tuple):\n",
    "            if all(t is None for t in thickness):\n",
    "                raise ValueError(\"Thickness tuple cannot have all None values.\")\n",
    "            params_list = [{'material': mat, 'thickness': thickness} for mat in materials]\n",
    "        elif isinstance(thickness, list):\n",
    "            if len(thickness) != len(materials):\n",
    "                raise ValueError(\"Length of thickness list must match length of materials list.\")\n",
    "            params_list = [{'material': mat, 'thickness': th} for mat, th in zip(materials, thickness)]\n",
    "        else:\n",
    "            raise TypeError(\"Thickness must be either a tuple or a list.\")\n",
    "\n",
    "        super().__init__(params_list)\n",
    "\n",
    "    def forward(self, energies):\n",
    "        \"\"\"\n",
    "        Takes X-ray energies and returns the filter response.\n",
    "\n",
    "        Args:\n",
    "            energies (torch.Tensor): A tensor containing the X-ray energies of a poly-energetic source in units of keV.\n",
    "\n",
    "        Returns:\n",
    "            torch.Tensor: The filter response as a function of input energies, selected material, and its thickness.\n",
    "        \"\"\"\n",
    "\t\t# Retrieves \n",
    "        mat = self.get_params()[f\"{self.prefix}_material\"]\n",
    "        th = self.get_params()[f\"{self.prefix}_thickness\"]\n",
    "        energies = torch.tensor(energies, dtype=torch.float32) if not isinstance(energies, torch.Tensor) else energies\t\t\n",
    "        return gen_fltr_res(energies, mat, th)\n"
   ],
   "metadata": {
    "collapsed": false,
    "ExecuteTime": {
     "end_time": "2025-03-19T09:53:55.240711Z",
     "start_time": "2025-03-19T09:53:53.851440Z"
    }
   },
   "id": "dc35ea51faa1b7d8"
  },
  {
   "cell_type": "code",
   "execution_count": 2,
   "outputs": [
    {
     "name": "stdout",
     "output_type": "stream",
     "text": [
      "{'Filter_1_material': Material(formula='Al', density=2.702), 'Filter_1_thickness': tensor(2.5000, grad_fn=<ClampFunctionBackward>)}\n"
     ]
    },
    {
     "data": {
      "text/plain": "[<matplotlib.lines.Line2D at 0x13c2e6b00>]"
     },
     "execution_count": 2,
     "metadata": {},
     "output_type": "execute_result"
    },
    {
     "data": {
      "text/plain": "<Figure size 640x480 with 1 Axes>",
      "image/png": "[encoded data removed]"
     },
     "metadata": {},
     "output_type": "display_data"
    }
   ],
   "source": [
    "import matplotlib.pyplot as plt\n",
    "\n",
    "th = 2.5 # target thickness in um\n",
    "\n",
    "psb_fltr_mat = [Material(formula='Al', density=2.702), Material(formula='Cu', density=8.92)]\n",
    "filter_1 = Filter(psb_fltr_mat, thickness=(th, 0, 10))\n",
    "\n",
    "ee = np.linspace(1,150,150)\n",
    "ff = filter_1(ee)\n",
    "est_param = filter_1.get_params()\n",
    "print(f'{est_param}')\n",
    "\n",
    "plt.plot(ee, ff.data)"
   ],
   "metadata": {
    "collapsed": false,
    "ExecuteTime": {
     "end_time": "2025-03-19T09:53:55.317369Z",
     "start_time": "2025-03-19T09:53:55.224294Z"
    }
   },
   "id": "b48eb84db2687e2c"
  },
  {
   "cell_type": "code",
   "execution_count": 2,
   "outputs": [],
   "source": [],
   "metadata": {
    "collapsed": false,
    "ExecuteTime": {
     "end_time": "2025-03-19T09:53:55.321913Z",
     "start_time": "2025-03-19T09:53:55.305340Z"
    }
   },
   "id": "73608166c8479b8b"
  }
 ],
 "metadata": {
  "kernelspec": {
   "name": "xspec",
   "language": "python",
   "display_name": "xspec"
  },
  "language_info": {
   "codemirror_mode": {
    "name": "ipython",
    "version": 2
   },
   "file_extension": ".py",
   "mimetype": "text/x-python",
   "name": "python",
   "nbconvert_exporter": "python",
   "pygments_lexer": "ipython2",
   "version": "2.7.6"
  }
 },
 "nbformat": 4,
 "nbformat_minor": 5
}
