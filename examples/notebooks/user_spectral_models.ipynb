{
 "cells": [
  {
   "cell_type": "markdown",
   "metadata": {},
   "source": [
    "# Customizing X-ray System Components Classes\n",
    "\n",
    "This guide aims to provide you with the knowledge necessary to customize classes of X-ray system components, such as sources, filters, and scintillators, with custom parameters.\n",
    "You will learn how to subclass `Base_Spec_Model` for X-ray system components like sources, filters, and scintillators.\n",
    "\n",
    "This tutorial covers:\n",
    "\n",
    "- **Models of X-ray System Components and Classes**: A brief overview of how spectral classes reflect X-ray system components.\n",
    "\n",
    "- **Model Examples**:\n",
    "  - **Analytical Model**: Constructing a model based on mathematical expressions.\n",
    "  - **Interpolation Model**: Developing a model by interpolating from a list of X-ray spectra.\n"
   ]
  },
  {
   "cell_type": "markdown",
   "source": [
    "## Models of X-ray System Components and Classes\n",
    "\n",
    "**Definition:** A spectral class should encapsulate an X-ray system component with initialization of necessary parameters $ \\theta_1 \\in \\{0, 1, 2\\} $, $ \\theta_2 \\in [0, 2] $ (both discrete and continuous) and their respective solution sets or ranges, along with a forward function $ S(E; \\theta_1, \\theta_2) $ that takes energy as input and returns an energy response.\n",
    "\n",
    "**User Preparation:** An energy response function (analytical or interpolation) with the necessary component's parameters.\n",
    "\n",
    "**Expected Output:** A PyTorch module for a specific X-ray component, which can do auto-gradient for spectral estimation.\n",
    "\n",
    "**Where to use?** \n",
    "\n",
    "    1. Calculate X-ray system response. \n",
    "    2. Spectral Estiamtion."
   ],
   "metadata": {
    "collapsed": false
   }
  },
  {
   "cell_type": "markdown",
   "metadata": {},
   "source": [
    "## Analytical Model Case Study: Creating a Filter Model with `Base_Spec_Model`\n",
    "\n",
    "In this case study, we subclass the `Base_Spec_Model` to define a filter class. This model simulates the behavior of X-ray filters using Beer's Law, leveraging the mass attenuation coefficients from NIST to predict how different materials and thicknesses attenuate X-ray energies."
   ]
  },
  {
   "cell_type": "markdown",
   "source": [
    "### User Preparation\n",
    "#### 1. Parameters\n",
    "- **$M:$ Materials**: Possible set of discrete parameter. User should provide possible filter materials as a list. Each element in the list should be an instance of class `Material` defined by a chemical formula and density. \n",
    "- **$T:$ Thickness**: Range of continuous parameter. User should provide a range specified as a tuple `(initial value, lower bound, upper bound)`."
   ],
   "metadata": {
    "collapsed": false
   }
  },
  {
   "cell_type": "markdown",
   "source": [
    "##### Initialization: Fit parameters to `Base_Spec_Model`\n",
    "Maintain a list of dictionaries, where each dictionary represents a possible combination of discrete and continuous parameters.\n",
    "During estimation, xcal will solve the continuous parameters within a specific range for each possible combination.\n",
    "Below is the example, assuming thickness initial and range are same for all possible material.  \n",
    "\n",
    "```python\n",
    "\n",
    "def __init__(self, materials, thickness):\n",
    "    \"\"\"\n",
    "    A template filter model based on Beer's Law and NIST mass attenuation coefficients, including all necessary methods.\n",
    "\n",
    "    Args:\n",
    "        materials (list): A list of possible materials for the filter,\n",
    "            where each material should be an instance containing formula and density.\n",
    "        thickness (tuple): (initial value, lower bound, upper bound) for the filter thickness (mm).\n",
    "            These three values cannot be all None. It will not be optimized when lower == upper.\n",
    "    \"\"\"\n",
    "    params_list = [{'material': mat, 'thickness': thickness} for mat in materials]\n",
    "    super().__init__(params_list)\n",
    "\n",
    "```"
   ],
   "metadata": {
    "collapsed": false
   }
  },
  {
   "cell_type": "markdown",
   "metadata": {},
   "source": [
    "#### 2. Response Function\n",
    "The filter response model is based Beer's Law.\n",
    "$$\n",
    "S^{fl}(E; M, T) = e^{-\\mu_M(E) \\cdot T}\n",
    "$$\n",
    "where $\\mu_M(E)$ is linear attenuation coefficiednt(LAC) of material M, which is obtained from NIST."
   ]
  },
  {
   "cell_type": "markdown",
   "source": [
    "##### Forward Method\n",
    "\n",
    "The `forward` method calculates the filter response for a given range of X-ray energies, utilizing the `gen_fltr_res` function. This function applies Beer's Law to determine how the selected material and its thickness attenuate the X-ray energies.\n",
    "\n",
    "##### Read parameters.\n",
    "\n",
    "```python\n",
    "mat = self.get_params()[f\"{self.prefix}_material\"]\n",
    "th = self.get_params()[f\"{self.prefix}_thickness\"]\n",
    "```\n",
    "##### Call filter response function\n",
    "```python\n",
    "gen_fltr_res(energies, mat, th)\n",
    "```"
   ],
   "metadata": {
    "collapsed": false
   }
  },
  {
   "cell_type": "code",
   "execution_count": 1,
   "metadata": {
    "ExecuteTime": {
     "end_time": "2024-04-10T05:01:55.086929Z",
     "start_time": "2024-04-10T05:01:53.749539Z"
    }
   },
   "outputs": [],
   "source": [
    "import torch\n",
    "from xcal import Material\n",
    "from xcal.chem_consts import get_lin_att_c_vs_E\n",
    "from xcal.models import Base_Spec_Model\n",
    "\n",
    "def gen_fltr_res(energies, fltr_mat: Material, fltr_th: float):\n",
    "    # thickness is in mm\n",
    "    mu = get_lin_att_c_vs_E(fltr_mat.density, fltr_mat.formula, energies)\n",
    "    mu = torch.tensor(mu, dtype=torch.float)\n",
    "    att = torch.exp(-mu * fltr_th)\n",
    "\n",
    "    return att\n",
    "\n",
    "\n",
    "class Filter(Base_Spec_Model):\n",
    "    def __init__(self, materials, thickness):\n",
    "        \"\"\"\n",
    "        A template filter model based on Beer's Law and NIST mass attenuation coefficients, including all necessary methods.\n",
    "\n",
    "        Args:\n",
    "            materials (list): A list of possible materials for the filter,\n",
    "                where each material should be an instance containing formula and density.\n",
    "            thickness (tuple): (initial value, lower bound, upper bound) for the filter thickness (mm).\n",
    "                These three values cannot be all None. It will not be optimized when lower == upper.\n",
    "        \"\"\"\n",
    "        params_list = [{'material': mat, 'thickness': thickness} for mat in materials]\n",
    "        super().__init__(params_list)\n",
    "\n",
    "    def forward(self, energies):\n",
    "        \"\"\"\n",
    "        Takes X-ray energies and returns the filter response.\n",
    "\n",
    "        Args:\n",
    "            energies (torch.Tensor): A tensor containing the X-ray energies of a poly-energetic source in units of keV.\n",
    "\n",
    "        Returns:\n",
    "            torch.Tensor: The filter response as a function of input energies, selected material, and its thickness.\n",
    "        \"\"\"\n",
    "        mat = self.get_params()[f\"{self.prefix}_material\"]\n",
    "        th = self.get_params()[f\"{self.prefix}_thickness\"]\n",
    "        # print('ID filter th:', id(th))\n",
    "        return gen_fltr_res(energies, mat, th)"
   ]
  },
  {
   "cell_type": "code",
   "execution_count": 2,
   "metadata": {
    "ExecuteTime": {
     "end_time": "2024-04-10T05:01:55.176656Z",
     "start_time": "2024-04-10T05:01:55.085494Z"
    }
   },
   "outputs": [
    {
     "name": "stdout",
     "output_type": "stream",
     "text": [
      "{'Filter_1_material': Material(formula='Al', density=2.702),\n",
      " 'Filter_1_thickness': tensor(5., grad_fn=<ClampFunctionBackward>)}\n"
     ]
    },
    {
     "data": {
      "text/plain": "<Figure size 640x480 with 1 Axes>",
      "image/png": "[encoded data removed]"
     },
     "metadata": {},
     "output_type": "display_data"
    }
   ],
   "source": [
    "import matplotlib.pyplot as plt\n",
    "import numpy as np\n",
    "import torch\n",
    "import pprint\n",
    "\n",
    "\n",
    "psb_fltr_mat = [Material(formula='Al', density=2.702), Material(formula='Cu', density=8.92)]\n",
    "filter_1 = Filter(materials = psb_fltr_mat, thickness=(5, 0, 10))\n",
    "params = filter_1.get_params()\n",
    "pprint.pprint(params)\n",
    "with torch.no_grad():\n",
    "    energies = np.linspace(1, 200, 200)  # X-ray energies from 1 to 200 keV\n",
    "    plt.plot(energies, filter_1(energies))  # Plotting the filter response\n",
    "    plt.xlabel('Energy (keV)')\n",
    "    plt.ylabel('Filter Response')\n",
    "    plt.title(f'X-ray Filter Response {params[f\"{filter_1.prefix}_thickness\"].numpy()} mm {params[f\"{filter_1.prefix}_material\"].formula}')\n",
    "    plt.show()\n",
    "    "
   ]
  },
  {
   "cell_type": "markdown",
   "source": [
    "## Interpolation Model Case Study: Creating a Source Model with `Base_Spec_Model`\n",
    "\n",
    "In this case study, we subclass the `Base_Spec_Model` to define a reflection source class. Since sources do not have a reliable analytical formula, we try to use an interpolation model instead."
   ],
   "metadata": {
    "collapsed": false
   }
  },
  {
   "cell_type": "markdown",
   "source": [
    "### User Preparation\n",
    "#### 1. Parameters\n",
    "- **$M:$ Materials**: Possible set of discrete parameter. User should provide possible anode materials as a list. Each element in the list is chemical formula in string form.\n",
    "- **$T:$ Take-off Angle**: Range of continuous parameter. User should provide a range specified as a tuple `(initial value, lower bound, upper bound)`."
   ],
   "metadata": {
    "collapsed": false
   }
  },
  {
   "cell_type": "markdown",
   "source": [
    "##### Initialization: Fit parameters to `Base_Spec_Model`\n",
    "Maintain a list of dictionaries, where each dictionary represents a possible combination of discrete and continuous parameters.\n",
    "During estimation, xcal will solve the continuous parameters within a specific range for each possible combination.\n",
    "Also, we need to claim a spectral dictionary for interpolation.\n",
    "Below is the example, \n",
    "\n",
    "```python\n",
    "\n",
    "def __init__(self, materials, takeoff_angle):\n",
    "    \"\"\"\n",
    "\n",
    "    Args:\n",
    "        materials (list): A list of possible materials for the anode, where each material should be a string.\n",
    "        takeoff_angle (tuple): (initial value, lower bound, upper bound) for the take-off angle (degree).\n",
    "            These three values cannot be all None. Also, it will not be optimized when lower == upper.\n",
    "    \"\"\"\n",
    "    params_list = [{'material': mat, 'takeoff_angle': takeoff_angle} for mat in materials]\n",
    "    super().__init__(params_list)\n",
    "    self.spec_dict={}\n",
    "\n",
    "```"
   ],
   "metadata": {
    "collapsed": false
   }
  },
  {
   "cell_type": "markdown",
   "source": [
    "#### 2. Response Function\n",
    "Here's the interpolation function incorporating the linear interpolation for $ \\phi $:\n",
    "\n",
    "$$\n",
    "S^{sr}(E; M, \\phi, D) = (1 - a) \\cdot D_{M, l} + a \\cdot D_{M, l+1}\n",
    "$$\n",
    "\n",
    "Where:\n",
    "- $ S^{sr}(E; M, \\phi, D) $ is the interpolated spectra of reflection source.\n",
    "- $ E $ represents the energy.\n",
    "- $ M $ represents an anode material, which is a discrete parameter.\n",
    "- $ \\phi $ represents the take-off angle of the anode, which is a continuous parameter to be linearly interpolated.\n",
    "- $ D $ is a dictionary containing the spectra for interpolation.\n",
    "- $ D_{M, l} $ and $ D_{M, l+1} $ are the spectra of the function at two adjacent points in the dictionary $ D $ corresponding to discrete parameter, anode material, $ M $.\n",
    "- $ a $ is the interpolation factor, calculated based on the value of $ \\phi $ relative to the values of $ \\phi_l $ and $ \\phi_{l+1} $. It is given by:\n",
    "\n",
    "$$\n",
    "a = \\frac{{\\phi - \\phi_l}}{{\\phi_{l+1} - \\phi_l}}\n",
    "$$"
   ],
   "metadata": {
    "collapsed": false
   }
  },
  {
   "cell_type": "markdown",
   "source": [
    "##### Forward Method\n",
    "\n",
    "Besides reading parameters and calling the response function, we also need to create a dictionary for the forward function. There are multiple ways to create this dictionary, and we'll provide an example to demonstrate one possible approach."
   ],
   "metadata": {
    "collapsed": false
   }
  },
  {
   "cell_type": "code",
   "execution_count": 3,
   "outputs": [],
   "source": [
    "from xcal.models import Interp1d\n",
    "\n",
    "class ReflectionSource(Base_Spec_Model):\n",
    "    def __init__(self, materials, takeoff_angle):\n",
    "        \"\"\"\n",
    "    \n",
    "        Args:\n",
    "            materials (list): A list of possible materials for the anode, where each material should be a string.\n",
    "            takeoff_angle (tuple): (initial value, lower bound, upper bound) for the take-off angle (degree).\n",
    "                These three values cannot be all None. Also, it will not be optimized when lower == upper.\n",
    "        \"\"\"\n",
    "        params_list = [{'material': mat, 'takeoff_angle': takeoff_angle} for mat in materials]\n",
    "        super().__init__(params_list)\n",
    "        self.spec_dict={}\n",
    "\n",
    "    def set_spec_list(self, mat,  takeoff_angle_list, src_spec_list):\n",
    "\n",
    "        self.src_spec_list = np.array(src_spec_list)\n",
    "        self.takeoff_angle_list = np.array(takeoff_angle_list)\n",
    "        self.spec_dict[mat] = Interp1d(torch.tensor(self.takeoff_angle_list, dtype=torch.float32),\n",
    "                                                    torch.tensor(self.src_spec_list, dtype=torch.float32))\n",
    "\n",
    "    def forward(self, energies):\n",
    "        \"\"\"\n",
    "        Takes X-ray energies and returns the source spectrum.\n",
    "\n",
    "        Args:\n",
    "            energies (torch.Tensor): A tensor containing the X-ray energies of a poly-energetic source in units of keV.\n",
    "\n",
    "        Returns:\n",
    "            torch.Tensor: The source response.\n",
    "        \"\"\"\n",
    "\n",
    "        mat = self.get_params()[f\"{self.prefix}_material\"]\n",
    "        ta = self.get_params()[f\"{self.prefix}_takeoff_angle\"]\n",
    "        src_spec = self.spec_dict[mat](ta)\n",
    "\n",
    "        return src_spec"
   ],
   "metadata": {
    "collapsed": false,
    "ExecuteTime": {
     "end_time": "2024-04-10T05:01:55.189820Z",
     "start_time": "2024-04-10T05:01:55.179451Z"
    }
   }
  },
  {
   "cell_type": "code",
   "execution_count": 4,
   "outputs": [],
   "source": [
    "import spekpy as sp\n",
    "targ_list = ['Mo','Rh', 'W']\n",
    "takeoff_angle_list = [5,7,10,14,18,23,29,36,44]\n",
    "\n",
    "spec_dict = {}\n",
    "for targ in targ_list:\n",
    "    src_spec_list = []\n",
    "    for th in takeoff_angle_list:\n",
    "        s = sp.Spek(kvp=50, th=th, dk=1, mas=1, char=True,shift=0.5, targ=targ)  # Create the spectrum model\n",
    "        energies, src_spec = s.get_spectrum(edges=False)  # Get arrays of energy & fluence spectrum\n",
    "        src_spec_list.append(src_spec)\n",
    "    spec_dict[targ] = src_spec_list"
   ],
   "metadata": {
    "collapsed": false,
    "ExecuteTime": {
     "end_time": "2024-04-10T05:02:02.631435Z",
     "start_time": "2024-04-10T05:01:55.182443Z"
    }
   }
  },
  {
   "cell_type": "code",
   "execution_count": 5,
   "outputs": [],
   "source": [
    "source = ReflectionSource(targ_list, (15, 5, 44))\n",
    "for targ in targ_list:\n",
    "    source.set_spec_list(targ, takeoff_angle_list, spec_dict[targ])"
   ],
   "metadata": {
    "collapsed": false,
    "ExecuteTime": {
     "end_time": "2024-04-10T05:02:02.637205Z",
     "start_time": "2024-04-10T05:02:02.632468Z"
    }
   }
  },
  {
   "cell_type": "code",
   "execution_count": 6,
   "outputs": [
    {
     "name": "stdout",
     "output_type": "stream",
     "text": [
      "{'ReflectionSource_1_material': 'Mo',\n",
      " 'ReflectionSource_1_takeoff_angle': tensor(15.0000, grad_fn=<ClampFunctionBackward>)}\n"
     ]
    },
    {
     "data": {
      "text/plain": "<Figure size 640x480 with 1 Axes>",
      "image/png": "[encoded data removed]"
     },
     "metadata": {},
     "output_type": "display_data"
    }
   ],
   "source": [
    "params = source.get_params()\n",
    "pprint.pprint(params)\n",
    "with torch.no_grad():\n",
    "    plt.plot(energies, source(energies))  # Plotting the filter response\n",
    "    plt.xlabel('Energy (keV)')\n",
    "    plt.ylabel('Source spectrum')\n",
    "    plt.title(f'X-ray Source spectrum \\ntarget material:{params[f\"{source.prefix}_material\"]}\\ntake-off angle: {params[f\"{source.prefix}_takeoff_angle\"].numpy()} ')\n",
    "    plt.show()"
   ],
   "metadata": {
    "collapsed": false,
    "ExecuteTime": {
     "end_time": "2024-04-10T05:02:02.756864Z",
     "start_time": "2024-04-10T05:02:02.636282Z"
    }
   }
  },
  {
   "cell_type": "code",
   "execution_count": 6,
   "outputs": [],
   "source": [],
   "metadata": {
    "collapsed": false,
    "ExecuteTime": {
     "end_time": "2024-04-10T05:02:02.774358Z",
     "start_time": "2024-04-10T05:02:02.756661Z"
    }
   }
  },
  {
   "cell_type": "code",
   "execution_count": 6,
   "outputs": [],
   "source": [],
   "metadata": {
    "collapsed": false,
    "ExecuteTime": {
     "end_time": "2024-04-10T05:02:02.774682Z",
     "start_time": "2024-04-10T05:02:02.762577Z"
    }
   }
  }
 ],
 "metadata": {
  "kernelspec": {
   "display_name": "xcal",
   "language": "python",
   "name": "xcal"
  },
  "language_info": {
   "codemirror_mode": {
    "name": "ipython",
    "version": 3
   },
   "file_extension": ".py",
   "mimetype": "text/x-python",
   "name": "python",
   "nbconvert_exporter": "python",
   "pygments_lexer": "ipython3",
   "version": "3.9.18"
  }
 },
 "nbformat": 4,
 "nbformat_minor": 4
}
